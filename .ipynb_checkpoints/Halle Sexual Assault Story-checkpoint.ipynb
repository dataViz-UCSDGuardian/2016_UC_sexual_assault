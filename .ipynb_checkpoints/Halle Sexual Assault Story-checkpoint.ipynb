{
 "cells": [
  {
   "cell_type": "code",
   "execution_count": 2,
   "metadata": {
    "collapsed": true
   },
   "outputs": [],
   "source": [
    "import openpyxl"
   ]
  },
  {
   "cell_type": "code",
   "execution_count": 4,
   "metadata": {
    "collapsed": false
   },
   "outputs": [],
   "source": [
    "calassault = openpyxl.load_workbook('OPHD-Investigations.xlsx')"
   ]
  },
  {
   "cell_type": "code",
   "execution_count": 5,
   "metadata": {
    "collapsed": false
   },
   "outputs": [
    {
     "name": "stdout",
     "output_type": "stream",
     "text": [
      "['page 1']\n"
     ]
    }
   ],
   "source": [
    "print(calassault.get_sheet_names())"
   ]
  },
  {
   "cell_type": "code",
   "execution_count": 6,
   "metadata": {
    "collapsed": true
   },
   "outputs": [],
   "source": [
    "page1 = calassault.get_sheet_by_name(\"page 1\")"
   ]
  },
  {
   "cell_type": "code",
   "execution_count": 7,
   "metadata": {
    "collapsed": false
   },
   "outputs": [
    {
     "name": "stdout",
     "output_type": "stream",
     "text": [
      "January 2011\n"
     ]
    }
   ],
   "source": [
    "print( page1['A3'].value )"
   ]
  },
  {
   "cell_type": "code",
   "execution_count": 28,
   "metadata": {
    "collapsed": false,
    "scrolled": true
   },
   "outputs": [
    {
     "name": "stdout",
     "output_type": "stream",
     "text": [
      "['Williamson, Ernest (Staff)', 'Narvaez, Frank (Staff) and\\nMcCartney, Chuck (Staff)', 'Anderson, Scott (Staff)', 'Kohlstedt, James (Staff)', 'Castillo, Nori (Contract Staff)', 'Loya, Phillip (Staff)', 'Wong, Alan (Contract Staff)', 'Mulzet, Todd (Contract Staff)', 'Topacio, Jeffrey (Staff)', \"D'Abrera, Howard (Adjunct Faculty)\", 'Wentworth, Blake (Faculty)', 'Leite, Diane (Staff) and Caniezo, Jonathan (Staff)', 'Sweitzer, Richard (Researcher)', 'Fleming, Graham (Vice Chancellor)', 'Marcy, Geoff (Faculty)', 'Choudhry, Sujit (Dean)', 'Hufnagel, Yann (Contract Staff)']\n",
      "['(Undergrad Student)', '(Staff)', '(Former Student)', '(Contract Staff)', '(Student Intern)', '(Staff)', '(Undergrad Student)', '(Staff)', '(Staff)', '(Undergrad Student)', '(Grad Students)', '(Staff) - Leite\\n(Staff) - Caniezo', '(Staff)', '(Former Staff)', '(Former Student), et al', '(Staff)', '(Non-affiliate)']\n",
      "['Resigned', 'Narvaez: 30-day Suspension\\nMcCartney: 5-day Suspension', 'Resigned', 'Terminated', 'Terminated', 'Letter of Warning', 'Termination', 'Salary Decrease In Lieu of Suspension', 'Terminated', 'Resigned', 'Disciplinary proceedings still pending.', 'Leite: Demotion\\nCaniezo: Demotion', 'Resigned', 'Resigned from administrative position', 'Resigned', 'Resigned from administrative position', 'Disciplinary proceedings still pending.']\n"
     ]
    }
   ],
   "source": [
    "respondarray = []\n",
    "complainarray = []\n",
    "actionarray = []\n",
    "\n",
    "for rows in range(3, 22):\n",
    "        if rows != 14 and rows != 15:\n",
    "            respondarray.append(page1.cell(row=rows, column=2).value)\n",
    "            complainarray.append(page1.cell(row=rows, column=3).value)\n",
    "            actionarray.append(page1.cell(row=rows, column=4).value)\n",
    "print (respondarray)\n",
    "print (complainarray)\n",
    "print (actionarray)"
   ]
  },
  {
   "cell_type": "code",
   "execution_count": 33,
   "metadata": {
    "collapsed": false
   },
   "outputs": [
    {
     "name": "stdout",
     "output_type": "stream",
     "text": [
      "here\n",
      "['Resigned', 'Narvaez: 30-day Suspension\\nMcCartney: 5-day Suspension', 'Resigned', 'Terminated', 'Terminated', 'Letter of Warning', 'Termination', 'Salary Decrease In Lieu of Suspension', 'Terminated', 'Resigned', 'Disciplinary proceedings still pending.', 'Leite: Demotion\\nCaniezo: Demotion', 'Resigned', 'Resigned from administrative position', 'Resigned', 'Resigned from administrative position', 'Disciplinary proceedings still pending.']\n"
     ]
    }
   ],
   "source": [
    "\n",
    "if action == 'Narvaez: 30-day Suspension\\nMcCartney: 5-day Suspension':\n",
    "    \n",
    "if action == 'Letter of Warning':\n",
    "    \n",
    "if action == 'Salaray Decrease In Leiu of Suspension':\n",
    "    \n",
    "if action == 'Termination':\n",
    "    \n",
    "if action == 'Disciplinary proceedings still pending.':\n",
    "    \n",
    "if action == 'Leite: Demotion\\nCaniezo: Demotion':\n",
    "    \n",
    "if action == 'Resigned from administrative position':\n",
    "     \n",
    "print (actionarray)"
   ]
  },
  {
   "cell_type": "code",
   "execution_count": null,
   "metadata": {
    "collapsed": true
   },
   "outputs": [],
   "source": []
  }
 ],
 "metadata": {
  "kernelspec": {
   "display_name": "Python 3",
   "language": "python",
   "name": "python3"
  },
  "language_info": {
   "codemirror_mode": {
    "name": "ipython",
    "version": 3
   },
   "file_extension": ".py",
   "mimetype": "text/x-python",
   "name": "python",
   "nbconvert_exporter": "python",
   "pygments_lexer": "ipython3",
   "version": "3.5.1"
  }
 },
 "nbformat": 4,
 "nbformat_minor": 0
}
