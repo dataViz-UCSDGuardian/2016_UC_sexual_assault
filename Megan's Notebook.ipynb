{
 "cells": [
  {
   "cell_type": "code",
   "execution_count": 2,
   "metadata": {
    "collapsed": false
   },
   "outputs": [],
   "source": [
    "import openpyxl\n"
   ]
  },
  {
   "cell_type": "code",
   "execution_count": 6,
   "metadata": {
    "collapsed": false
   },
   "outputs": [],
   "source": [
    "OPHDChart = openpyxl.load_workbook('OPHD-Investigations.xlsx')"
   ]
  },
  {
   "cell_type": "code",
   "execution_count": 7,
   "metadata": {
    "collapsed": false
   },
   "outputs": [
    {
     "name": "stdout",
     "output_type": "stream",
     "text": [
      "['page 1']\n"
     ]
    }
   ],
   "source": [
    "print(OPHDChart.get_sheet_names())"
   ]
  },
  {
   "cell_type": "code",
   "execution_count": 11,
   "metadata": {
    "collapsed": false
   },
   "outputs": [],
   "source": [
    "sheet1 = OPHDChart.get_sheet_by_name('page 1')"
   ]
  },
  {
   "cell_type": "code",
   "execution_count": 54,
   "metadata": {
    "collapsed": false
   },
   "outputs": [
    {
     "name": "stdout",
     "output_type": "stream",
     "text": [
      "['Williamson, Ernest (Staff)', 'Narvaez, Frank (Staff) and\\nMcCartney, Chuck (Staff)', 'Anderson, Scott (Staff)', 'Kohlstedt, James (Staff)', 'Castillo, Nori (Contract Staff)', 'Loya, Phillip (Staff)', 'Wong, Alan (Contract Staff)', 'Mulzet, Todd (Contract Staff)', 'Topacio, Jeffrey (Staff)', \"D'Abrera, Howard (Adjunct Faculty)\", 'Wentworth, Blake (Faculty)', 'Leite, Diane (Staff) and Caniezo, Jonathan (Staff)', 'Sweitzer, Richard (Researcher)', 'Fleming, Graham (Vice Chancellor)', 'Marcy, Geoff (Faculty)', 'Choudhry, Sujit (Dean)', 'Hufnagel, Yann (Contract Staff)']\n",
      "['(Undergrad Student)', '(Staff)', '(Former Student)', '(Contract Staff)', '(Student Intern)', '(Staff)', '(Undergrad Student)', '(Staff)', '(Staff)', '(Undergrad Student)', '(Grad Students)', '(Staff) - Leite\\n(Staff) - Caniezo', '(Staff)', '(Former Staff)', '(Former Student), et al', '(Staff)', '(Non-affiliate)']\n",
      "['Resigned', 'Narvaez: 30-day Suspension\\nMcCartney: 5-day Suspension', 'Resigned', 'Terminated', 'Terminated', 'Letter of Warning', 'Termination', 'Salary Decrease In Lieu of Suspension', 'Terminated', 'Resigned', 'Disciplinary proceedings still pending.', 'Leite: Demotion\\nCaniezo: Demotion', 'Resigned', 'Resigned from administrative position', 'Resigned', 'Resigned from administrative position', 'Disciplinary proceedings still pending.']\n"
     ]
    }
   ],
   "source": [
    "respondent = []\n",
    "complainant = []\n",
    "action_status = []\n",
    "\n",
    "for item in range(3,22):\n",
    "    if item != 14 and item != 15:    \n",
    "        respondent.append(sheet1.cell(row=item, column=2).value)\n",
    "print(respondent)\n",
    "\n",
    "for item in range(3,22):\n",
    "    if item != 14 and item != 15:\n",
    "        complainant.append(sheet1.cell(row=item, column=3).value)\n",
    "print(complainant)\n",
    "\n",
    "for item in range(3,22):\n",
    "    if item != 14 and item != 15:\n",
    "        action_status.append(sheet1.cell(row=item, column=4).value)\n",
    "print(action_status)\n",
    "        "
   ]
  },
  {
   "cell_type": "code",
   "execution_count": 59,
   "metadata": {
    "collapsed": false
   },
   "outputs": [
    {
     "name": "stdout",
     "output_type": "stream",
     "text": [
      "1\n",
      "['Resigned', 'Narvaez: 30-day Suspension\\nMcCartney: 5-day Suspension', 'Resigned', 'Terminated', 'Terminated', 'Letter of Warning', 'Termination', 'Salary Decrease In Lieu of Suspension', 'Terminated', 'Resigned', 'Disciplinary proceedings still pending.', 'Leite: Demotion\\nCaniezo: Demotion', 'Resigned', 'Resigned from administrative position', 'Resigned', 'Resigned from administrative position', 'Disciplinary proceedings still pending.']\n"
     ]
    }
   ],
   "source": [
    "for action in range(1,len(action_status)):\n",
    "    if action_status[action] == 'Narvaez: 30-day Suspension\\nMcCartney: 5-day Suspension':\n",
    "        print(action)\n",
    "        action_status[action] == 's'\n",
    "    if action == 'Salary Decrease In Lieu of Suspension' or action == 'Disciplinary proceedings still pending.'or action == 'Leite: Demotion\\nCaniezo: Demotion':\n",
    "        action = action.replace('Salary Decrease In Lieu of Suspension', 'Other')\n",
    "    if action == 'Resigned from administrative position':\n",
    "        action = 'Resigned'\n",
    "    if action == 'Termination':\n",
    "        action = 'Terminated'\n",
    "print(action_status)"
   ]
  },
  {
   "cell_type": "code",
   "execution_count": 52,
   "metadata": {
    "collapsed": false
   },
   "outputs": [
    {
     "name": "stdout",
     "output_type": "stream",
     "text": [
      "th    a string\n"
     ]
    }
   ],
   "source": []
  },
  {
   "cell_type": "code",
   "execution_count": null,
   "metadata": {
    "collapsed": true
   },
   "outputs": [],
   "source": [
    "Y"
   ]
  }
 ],
 "metadata": {
  "kernelspec": {
   "display_name": "Python 3",
   "language": "python",
   "name": "python3"
  },
  "language_info": {
   "codemirror_mode": {
    "name": "ipython",
    "version": 3
   },
   "file_extension": ".py",
   "mimetype": "text/x-python",
   "name": "python",
   "nbconvert_exporter": "python",
   "pygments_lexer": "ipython3",
   "version": "3.5.1"
  }
 },
 "nbformat": 4,
 "nbformat_minor": 0
}
